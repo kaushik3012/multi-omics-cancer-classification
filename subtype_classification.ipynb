{
 "cells": [
  {
   "cell_type": "code",
   "execution_count": 1,
   "id": "be2f4c44",
   "metadata": {},
   "outputs": [],
   "source": [
    "import pandas as pd"
   ]
  },
  {
   "cell_type": "code",
   "execution_count": 2,
   "id": "0ec4b92b",
   "metadata": {},
   "outputs": [],
   "source": [
    "data_dir = '/Users/kaushikrajnadar/Downloads/AttentionMOI-master/AttentionMOI/example'\n",
    "\n",
    "label_df = pd.read_csv(f'{data_dir}/label.csv', )\n",
    "label_df.columns.values[0] = 'subject'\n",
    "\n",
    "cnv_df = pd.read_csv(f'{data_dir}/cnv.csv.gz')\n",
    "cnv_df.columns.values[0] = 'subject'\n",
    "\n",
    "exp_df = pd.read_csv(f'{data_dir}/rna.csv.gz')\n",
    "exp_df.columns.values[0] = 'subject'\n",
    "\n",
    "met_df = pd.read_csv(f'{data_dir}/met.csv.gz')\n",
    "met_df.columns.values[0] = 'subject'\n"
   ]
  },
  {
   "cell_type": "code",
   "execution_count": 3,
   "id": "d8ed58ab",
   "metadata": {},
   "outputs": [],
   "source": [
    "dfs = [label_df, cnv_df, exp_df, met_df]\n",
    "suffixes = ['', '_cnv', '_exp', '_met']\n",
    "\n",
    "for i, df in enumerate(dfs):\n",
    "    df.columns = [col if col == 'subject' else col + suffixes[i] for col in df.columns]\n",
    "\n",
    "merged = dfs[0]\n",
    "for df in dfs[1:]:\n",
    "    merged = merged.merge(df, on='subject')"
   ]
  },
  {
   "cell_type": "code",
   "execution_count": 6,
   "id": "61effb37",
   "metadata": {},
   "outputs": [],
   "source": [
    "import pandas as pd\n",
    "from sklearn.manifold import TSNE\n",
    "from sklearn.preprocessing import StandardScaler\n",
    "import matplotlib.pyplot as plt\n",
    "\n",
    "# Example: replace with your actual DataFrame\n",
    "# df = pd.read_csv('your_data.csv')\n",
    "\n",
    "# --- Step 1: Separate features and labels (if you have them) ---\n",
    "# Suppose 'label' is your target column; adjust accordingly\n",
    "X = merged.drop(columns=['label', 'subject'], errors='ignore').fillna(0)\n",
    "y = merged['label'] if 'label' in merged.columns else None\n",
    "\n",
    "label_map = { 0: 'KICH', 1: 'KIRC', 2: 'KIRP' }\n",
    "if y is not None:\n",
    "    y = y.map(label_map)\n",
    "    y = y.astype('category')\n",
    "\n",
    "# --- Step 2: Standardize the features ---\n",
    "X_scaled = StandardScaler().fit_transform(X)\n",
    "\n",
    "# --- Step 3: Apply t-SNE ---\n",
    "tsne = TSNE(\n",
    "    n_components=2,       # 2D visualization\n",
    "    perplexity=30,        # adjust based on sample size\n",
    "    max_iter=1000,          # number of iterations\n",
    "    learning_rate='auto',\n",
    "    init='pca',\n",
    "    random_state=42\n",
    ")\n",
    "X_embedded = tsne.fit_transform(X_scaled)\n"
   ]
  },
  {
   "cell_type": "code",
   "execution_count": null,
   "id": "fdf47866",
   "metadata": {},
   "outputs": [],
   "source": [
    "# --- Step 4: Plot the results ---\n",
    "plt.figure(figsize=(8, 6))\n",
    "if y is not None:\n",
    "    scatter = plt.scatter(X_embedded[:, 0], X_embedded[:, 1], c=y,cmap='Set1', s=50, alpha=0.7)\n",
    "    plt.legend(*scatter.legend_elements(), title=\"Classes\")\n",
    "else:\n",
    "    plt.scatter(X_embedded[:, 0], X_embedded[:, 1], s=50, alpha=0.7)\n",
    "\n",
    "plt.title(\"t-SNE Visualization of High-Dimensional Data\", fontsize=14)\n",
    "plt.xlabel(\"t-SNE 1\")\n",
    "plt.ylabel(\"t-SNE 2\")\n",
    "plt.grid(True)\n",
    "plt.show()"
   ]
  },
  {
   "cell_type": "code",
   "execution_count": 10,
   "id": "a593e8b8",
   "metadata": {},
   "outputs": [
    {
     "data": {
      "application/vnd.plotly.v1+json": {
       "config": {
        "plotlyServerURL": "https://plot.ly"
       },
       "data": [
        {
         "hovertemplate": "Label=KICH<br>Dimension 1=%{x}<br>Dimension 2=%{y}<extra></extra>",
         "legendgroup": "KICH",
         "marker": {
          "color": "rgb(228,26,28)",
          "line": {
           "color": "black",
           "width": 0.5
          },
          "opacity": 0.8,
          "size": 8,
          "symbol": "circle"
         },
         "mode": "markers",
         "name": "KICH",
         "orientation": "v",
         "showlegend": true,
         "type": "scatter",
         "x": {
          "bdata": "2vIhwo0TGMJzaDVAc5EyQIXyHsLmbCTCAGccwsYID8LSVifCPMwSwv4YDsL62R3C7dMbwlNJHcK4nBLCU/e5wVRxIMJpSBjCKcwawhUHH8KcTh7CBeEYwuU6FsLO2SHCNo0RwqV3EcLhZCLC9vBFP1mZEMJx1RzCe90SwotzI8KwQdE/+LkhQCy+IMKmrIW9gg8kwv/yCsJtito/UIQewrQ4DsJibAtAD+umweSmRD/cMxvC60sXwpCuFsJ/mnw/FE0ZwpYzKMJr8RLCuaBCQLE2GcIJdJDAB1S7wcODHsIDMhzCJIgkwnAxD8IVVes/PiMtQN9S1j7VhRfCnAcjwn8yHcI=",
          "dtype": "f4"
         },
         "xaxis": "x",
         "y": {
          "bdata": "Bs8KQd6LOkEzoVNBsfZOQf9NwEAueixBGsgMQeg2EEHysx1BThy9QPJ8LkHjdQJBPM8yQZf4EEF9cAJBZjaPQLiYCUGP5AxB01HKQFElBUEpLQdBgDf6QM0lFkHANhlBFK3RQBvX6ED5NCVBNzZqQXEHGEFCSx9BhaUlQdSoI0F4FWJBEyRhQWan+kDkDEdBQO3DQDJGFEGfX3ZB8hHlQMtdEEHYc39B086jQLD1LkFVJQJBo7r/QH+660CCTlFB6k4pQa8/CEEuLThBikhRQb7qKEHQzSBBzd2lQFmeLEHQVBBBCq0BQeK8HUFm9XNBfeI8QVeoeEFSnRlBaubcQLbW/0A=",
          "dtype": "f4"
         },
         "yaxis": "y"
        },
        {
         "hovertemplate": "Label=KIRC<br>Dimension 1=%{x}<br>Dimension 2=%{y}<extra></extra>",
         "legendgroup": "KIRC",
         "marker": {
          "color": "rgb(55,126,184)",
          "line": {
           "color": "black",
           "width": 0.5
          },
          "opacity": 0.8,
          "size": 8,
          "symbol": "circle"
         },
         "mode": "markers",
         "name": "KIRC",
         "orientation": "v",
         "showlegend": true,
         "type": "scatter",
         "x": {
          "bdata": "PrshwJkDJ0DlRKvAiI2lwGZv10B3yc8/UWNewYaOL8CeBcjAR3OrPjXWJcHXrv7A1pfUwId34r+le5NB/B22wXaPUcBgquRA0da6QEDuAkAyR79AeVphwFb/0sC+AIi+hRDowLmW573UctJAW+JzPkw1fsBH+MLAqYOowcvzTsECHszBh9qwwPw9FMHLfKjAu1b+wOan20BbCghATZ+3wEgRm7+fYK3APObBwDOkzkBFKJS/xoLZQKQ7mkBPvplAGBZvQSS6U8Cas4bAo1Huv4hEycED1/+/A9o9wbc8AsCTd1S/4zZmv/qRU7+tf/XA4ezWv3LhC8GIvjNAEg8LwrwLJ8GRoxvCtHETQGNGg0D01Hi/488IwEB8mb/DD7/AT265wYzJyEBquzHAqOgVQCvAnMBjfMJAchXLwP4XDMLd0Am/j1EowLz4KEBoeGC/ig0twMaEA8Bz6je+H+jpwR6g9z//EhVANCx4wEH5NL5dWZdAJFfnvxd6uUAUwX1AbMtvQE6Ba0C+QCzAf4I7QOHdiMAfc4rA6Nb3QIEDNEDHOau/hoKtwQ9bVcCP2hLA4m6mwI/Pxb/x8FnAdDjCwUJW7z/3xHTBGfyev4o8JUCY8lNAH9huQGTI5cH4LRXAgLG0QN/AxMFxXJ3AnMMTP+7tV0Ew20ZAccYWQQQlR8CP2WzAG0tAwH+KAcEwfxrCSDYewVKzFMBfaY/ADB9VwB2XC0GnHfjAMayhwPELIkEIRw/Bd90XQWX52sCYs7nBppqoQZfn2cHsvAXBBQY5wV2HrMFR0v7AaRL3wMFKEMHaHTDBlKDUv+mpeL8v0gnA+sUCwEGTj8GiSqTALQkPwb1o0kCVayjBamXVwFJy38DgT2jBHFAlwfjrKcH+WCjAJQdRvP2Tz8DXzDNAt+OmwOC7u8DNzIFBVq6yweVHrsEpYqZAVuppwMsZQr7AFW1BzYoswKtEs70dOcs/7NvhvkJEzDus3io/IGPFQD2plsCGJYhAIbIGQBeSp0CzSME/b+nBwX3cysAUFdRAohW7wN6tJ8CTyB3BdE4HQDOJgsAQsJXA9oIswcF/jcA8dsNA9ILBv3df+sDAav3AELqEPb5zAEAj+44/31kXwbG4t8GeBsZAiHSHwSG7isERd5c/q0XEweWmdMDwH4fBUEuiv3sXvEBWw7+/NijoP/QCXsAtBYpAuTSFQJO1o8DkIR/BaevxwFyVPMH9JtXB5NHLwV1K08BTx/9ATQZCwfbEsMAtxN/AEBJcwM3aOcHNm7bARfcuwb5Bn8EkYaPBDKSwwPOkh8BTHhLBQQ0rwbq1qcAnyn7B8YXcwFPkJcDchS1B9goGwRQGpcEsOavBE2Eswevm1MDb9cc/HwzOwSFLbMGfNtvA7zwHQPoHGME+vg7B+rEUwWW6tj+Xx6PBUCYdP6AL1j76qmXBDu2twKi1vcEYAx7BDEyePnJ8+8AZZqVAfbD9wOzFYkAubmPAEoGLP7ZsK8Fg/j/BZnEWwWcQ/cDXDSzBG5T0wD4PJsG4BobAaZD3QOPU2MBe6j3BBLHewEOt58FdtJpA1dK1wFz77sHsdcXBJrcfQIhYZL+n0HPATnnYwQ==",
          "dtype": "f4"
         },
         "xaxis": "x",
         "y": {
          "bdata": "4UYCQN7fz8D2FLY/HMnQv/iDU8DVKS7BVh2rQNtZ2UDNNT2/5cWAwHP6jMCJSJxA60cdQA8/TUCM9rzAnBoVQJyZikBFWghBDO3oQBucF8ArKvpArq6yv7v6KsChjQnBMGnGwPP0wMA6aYG/mwYjv9vtJ8EW+BvAEHf2P6fppEBGahFA2XrBQOsXA0AgVQNBLsAlvyX4FEFgV3XAmHhZwKq3NEA3zXdAJSwEwNkZF0HQmcDAdwuiwKZ81b/UkbXA472AQB07bj/2QNPAijSYPRXYC0AEVvQ+in1pwMaE1D+Pe4o/jmgoQOIDuz8tjA3AP+ezwDqbrcBOB6DAkgwgQU/IssB74+dA7tSmwKeeckFQWIzAb+EkwC/laMC/YixB+GUpQOtL+sBrJq++JaI5wCAhK0GqIaI/xMwqQa/JCkGJz9pARenywF1iAj9/yZK/XB7zwJARCMH/CNE+5iSHQKvMmkDDNQRAM07owL3IosBcxoK/WBKTv33aTT+NMxhAqe3+P7fymcCqP5/AiGEhwI4o9sCsY5TAwvATwJbiREBq8DbBT1NbvtUrRcCr7M7AWsu6wNxBI8BqwJvAAoEPQG9G+74UYWlAQVI7wYC/A7+mjO7AlP1iwEdV1L06nYjA0nwOQdK7uz8T/V3ApmaNPld1H8E4H6u/iba4vm++MsC6lF/AcPsLwFVCfsBsK85Aa2lawPDEeMCL74HAuv4UwV8TA8ANBSnBpVevQL5fjkC6XXo/Lki7v442nsDO5Xs/SW9tQNCKNEBnBeC/vGCsQAT/JkDv3IVAxFl7QBa7lkCxAsC/AvCBQEiJuL3kUlpA+hagQINoEUBOYgM+ilguwNqzBUERbwVBYSN6PyXzT0DbXku/V3EDQeawxsD+KcLAyovnwG/L6cDAHse/jjiSv9OwWEB+0rJAVb17P3BH5D9lk77A2v4wQNYMg0DjACZAXNllwFJNoUBkBqFAuwgJQJfsacBh2zhAmPgDQd0TIEH4vKTAbWBsPwPr3D9iFtbAE2q3P6n2nMB9e7K/f3h6wDmkpb8dpwLBlbsDwOdRJ8Fcch7A9Jf+wDe4IcDklPvAAqItwTk9ncCGQHLA3wiwwC2M38Bwdg7B6unsvwgg5j8bfgvBNwIgv7CER0DoVZk/LjTvPxACi7/PLCa/0KPMv95rR8Dx3O/AvRfpvUn1w8B8oYE/DS6TPg1bCkAAOJa+HWbTQKGilj9cjzNAGFRNQAm1wMDaTjpA51bPwNPnvEA/SeC+YhMKQE1spkCpYnVApSTRvwffYz/0L4g/YfiNwDd/87+toqq+IqNpwD33yT95c7w/YDRhP7DK4UDGN1PAETRJQE09oT5STShAsZuiwL1kWMBK6ifAKDYJQL5YWL/ybIjA6z/8wMU2bcCkT9LAhE0eQAEmMMF2OSlA8zqxwMI3AsCoPHjAeerKwEQpR0B580JAbU/tv58d/MC5IcM++vj8wOx+GsHeYkvBjS8NwT8wMMB30BpAxGx/QNTEvz8WIy4/E5cVQFYaBEEfTgXBxYUOQeFv6j/pag5AZ/HEP3RTPkCx1IBANLwVwcjmWEBIhl5Al4amQN1JH8DiIaA7FWflPw==",
          "dtype": "f4"
         },
         "yaxis": "y"
        },
        {
         "hovertemplate": "Label=KIRP<br>Dimension 1=%{x}<br>Dimension 2=%{y}<extra></extra>",
         "legendgroup": "KIRP",
         "marker": {
          "color": "rgb(77,175,74)",
          "line": {
           "color": "black",
           "width": 0.5
          },
          "opacity": 0.8,
          "size": 8,
          "symbol": "circle"
         },
         "mode": "markers",
         "name": "KIRP",
         "orientation": "v",
         "showlegend": true,
         "type": "scatter",
         "x": {
          "bdata": "V1/cQNVslUE5NOVBePHeQaMDrkEvptdBJDuqQVrejEG+MKHAWOKhQazfwUG/YNbBdL/kwdQeuUGl+tNBwwDAQQkUuEGOJ8JByLfXwULuykG4np5BxbTHwXsSBME02ppBmipQQTwREcIA489BLJV+QdDy/UFwPvlB4hrVQTsx9kEU/9RBNiiJQeRU+0GYFuZBUR3jQe2j9EHlz5JBKTWxQYTTkEFJtwpCH+2fQa+ZwkHQiCRAhMbOwV1avkGCyYVBsTOWQR1z0UEvz+hBGd/iQe38pkFrrvjBmZGEQf00yEFHuJ9BexHWQYlRpkFft8VB0ALwQSa7+cGQZuxB4HjdweidxsGAAgo/6hzZQd0sgUDAuXVBfYKwQbyVwUFffeHBVjNLQRxng0E/seNBPtW0QVITn0EFYQZClIXcweO2/0FSOLVBVyoKwnmPwMEdet5BDgWFQeNYpEE8vx/C9zHRwVznKEFAeAlBM+PxQfmYzkDdBadBz+TPQXE19cGARqVBvfPJQWABa0DnSNBB3CKzQW+kkEFwrdJBTVKYQVy/wkGvFvzBVujJQU909cFK1bpBuvbhQVr0RkGZZO1B5XGFQYx61sFiIAJCoNHkQd+Dn0FW35VBayWIQRyAzkG00+1BQx3TwQAv78GTfO5BS4aIQcvv0MF5n45B/VbtwfbH0kHERIvBbcKMQbSenUHCTu3BHw53QIkTbUExa+vBaz9cQeBxMEEv5+PB7ouHwbYEiMHskf3BFDa8QQ2Ia0E/XXpBWkmtQUqUr0GcBIZBND+eQfB2jUEcIJpBTX2LQeKOZUGGdnhB/qfKQRzE5EEIOs9BE/zzQauXTUEWsNjB76vzwQzru0FjmJ3BYKrBwRNinUHAMMFB94WgwcuL7UFaOjpB58X8wQh098E6WszBjrDlQUBXCEJW69jBn6oDwm3F+UE2lKBBqAADQrAypsFRjvvBCY6OQVir3kEiOcdBh2CQQcZvhUE6btNBNFg6P56D0UEQYtJB38LmQclCz8GT9NFBZ0StQaFMxUGIkt7BWEOWQdmtl0EY7I9BzT+pQcbg+UGW09ZBwLa3QZiavcF8t/S+M2mDQSFPxUH4NcdBMLa4QcC94EEuWJpBkGvcQRyg3kEgT+NBEaMKQtt+8EGe5rpBa1vbQV3lhsEF3YvBdQqkQRtHMkEl6pNByo/sQa6duEFfVQDC7gbowde7BUKErvNB8lnWQZnHr0EXSvNBUViCQePa5kHfdapBVr7qQTML4EEaD9xBlqv6QaY0+cEkNvhBEL7FQf6o7kHO25xBUsvLwTYo2EHZZALCo/CuQWfI3EHXn91BmFvcQTcJB0IMbZVBL6+PQWf4j8HBTG5BuJP+QR9yeEEVq7BBIfblQb2c70GU1JFB",
          "dtype": "f4"
         },
         "xaxis": "x",
         "y": {
          "bdata": "ogsSQb6BEcFY/BzBKLUUwAeqRED0v8fAgpEoQDOjIsGkLRxA/s4fwbYEE8Ep1yjAG02Av5Gcgb9NOl1AtAECwEttl8ClhdnAeoJXP4YBBsA2ELW+3IrHv2gVtr+D/ZHARuflvndbw0DkQi3BymYcwZIaWD9Nk98+hg0AwNkShsB1Wg7AGww1wCyzs8ClLJA+Dxrlv6y5YcCNXErAxrAkwBdRWcAo9IrAihLJPzxVJ78iwVxB2QAPv9jMcsDd+YlAMnDmwKKNir5FC6nAGxvlwJISDMApUuM/XwO7v2kqbcDWVgo/o8QGweeTgL+PUpw/1IY1QGYMlT/+iBpA79iEvjjUiL9bGPM/UNgXwPmKVEHBaHtA+O+hPySEOsARdqk/vHVfQG58P0CU2ejAliLjv8iMAcHu2ya/+rNrQGGdf8AEe+E+3L+bQDg2hLscqzHAbAKHwIMKMMCpUS1BQrU3vgMXkEAQFcI/Dy8swDr7CEE++onAjuybwMEMBUBi2gbBQHv9P5nTYkHun9/Awj+wwMJZhcAXbczAzjROvxBMkcDY9Q+8V6PKP81otz9r5PDAGdxwPxtS9b9hl7bAhWMnPz9ISj5fQee+aCudPw8JSsBK3tw/1z5RwGnfzEDb5gbBWuUnv8VnIL8GND3ACGngwLwXiD5aOgPBkopZwDdCqcAXywhBf1ZHv73UCT+aaVrA78RRQTcxHkDuC5s/Xp1/QJVFRr8/IMk/DSb/QB/6/kDd2A5AprnrP95wxsBG74NAPqINwYNEnT0vf/+/BQWmwEglIcEPOwnAklKiwKPPm0CwwNi/5+XrwKyJTsD52MhA7+r1wCoELMC9o6FAw6kaQKM0fEDpCddAI4wRwNVok8Ayi77Al43JQOHijj990pa/7IlBQMbJGT9i4Ly+NZ2IvwCqgr8ENcS/nagDQET/8b9BugvBCzSLwFLir0C7JR1AuvBKvvKJjb/WIKfAcP8YwE89FsFcsQHBhw4mQWShmb9CKFnAme2ZwF2GYr+hGzjAHaesv8WS874QYgO/Oc4awMrZtz+GCpm+RqH0wOEx7r8qG6w/F/3HPmupU79IYERBkjKJv5SQNsD8mwPAlFSvwJcc+j6bLffAc2bVvY9n3D/ZumlA++WKwPmsz78jVDPAWLpbwCrs/EC/0JNAnKW4wJwciD7xOgbBht/tvRqQ6MBxuQdAj2Gmv6+wxr8DJrS/4Sp2wEILgMBsmOHAK6QawbLiKUA60UDAekt2wLcjTsBQV5XAXNsWvyujKEDffo/AuWyTwH+EvMDoVtg9qy5APwC2br+Cnrg/vLC9wP28rMA9luLAUpeIv3SIir+lkeXAW7UIwGA1WkBKPJZAk7wWwKyvWcB5I2rAoA33vweCo8CGvBVA",
          "dtype": "f4"
         },
         "yaxis": "y"
        }
       ],
       "layout": {
        "height": 500,
        "legend": {
         "title": {
          "text": "Sub Types"
         },
         "tracegroupgap": 0
        },
        "template": {
         "data": {
          "bar": [
           {
            "error_x": {
             "color": "rgb(36,36,36)"
            },
            "error_y": {
             "color": "rgb(36,36,36)"
            },
            "marker": {
             "line": {
              "color": "white",
              "width": 0.5
             },
             "pattern": {
              "fillmode": "overlay",
              "size": 10,
              "solidity": 0.2
             }
            },
            "type": "bar"
           }
          ],
          "barpolar": [
           {
            "marker": {
             "line": {
              "color": "white",
              "width": 0.5
             },
             "pattern": {
              "fillmode": "overlay",
              "size": 10,
              "solidity": 0.2
             }
            },
            "type": "barpolar"
           }
          ],
          "carpet": [
           {
            "aaxis": {
             "endlinecolor": "rgb(36,36,36)",
             "gridcolor": "white",
             "linecolor": "white",
             "minorgridcolor": "white",
             "startlinecolor": "rgb(36,36,36)"
            },
            "baxis": {
             "endlinecolor": "rgb(36,36,36)",
             "gridcolor": "white",
             "linecolor": "white",
             "minorgridcolor": "white",
             "startlinecolor": "rgb(36,36,36)"
            },
            "type": "carpet"
           }
          ],
          "choropleth": [
           {
            "colorbar": {
             "outlinewidth": 1,
             "tickcolor": "rgb(36,36,36)",
             "ticks": "outside"
            },
            "type": "choropleth"
           }
          ],
          "contour": [
           {
            "colorbar": {
             "outlinewidth": 1,
             "tickcolor": "rgb(36,36,36)",
             "ticks": "outside"
            },
            "colorscale": [
             [
              0,
              "#440154"
             ],
             [
              0.1111111111111111,
              "#482878"
             ],
             [
              0.2222222222222222,
              "#3e4989"
             ],
             [
              0.3333333333333333,
              "#31688e"
             ],
             [
              0.4444444444444444,
              "#26828e"
             ],
             [
              0.5555555555555556,
              "#1f9e89"
             ],
             [
              0.6666666666666666,
              "#35b779"
             ],
             [
              0.7777777777777778,
              "#6ece58"
             ],
             [
              0.8888888888888888,
              "#b5de2b"
             ],
             [
              1,
              "#fde725"
             ]
            ],
            "type": "contour"
           }
          ],
          "contourcarpet": [
           {
            "colorbar": {
             "outlinewidth": 1,
             "tickcolor": "rgb(36,36,36)",
             "ticks": "outside"
            },
            "type": "contourcarpet"
           }
          ],
          "heatmap": [
           {
            "colorbar": {
             "outlinewidth": 1,
             "tickcolor": "rgb(36,36,36)",
             "ticks": "outside"
            },
            "colorscale": [
             [
              0,
              "#440154"
             ],
             [
              0.1111111111111111,
              "#482878"
             ],
             [
              0.2222222222222222,
              "#3e4989"
             ],
             [
              0.3333333333333333,
              "#31688e"
             ],
             [
              0.4444444444444444,
              "#26828e"
             ],
             [
              0.5555555555555556,
              "#1f9e89"
             ],
             [
              0.6666666666666666,
              "#35b779"
             ],
             [
              0.7777777777777778,
              "#6ece58"
             ],
             [
              0.8888888888888888,
              "#b5de2b"
             ],
             [
              1,
              "#fde725"
             ]
            ],
            "type": "heatmap"
           }
          ],
          "histogram": [
           {
            "marker": {
             "line": {
              "color": "white",
              "width": 0.6
             }
            },
            "type": "histogram"
           }
          ],
          "histogram2d": [
           {
            "colorbar": {
             "outlinewidth": 1,
             "tickcolor": "rgb(36,36,36)",
             "ticks": "outside"
            },
            "colorscale": [
             [
              0,
              "#440154"
             ],
             [
              0.1111111111111111,
              "#482878"
             ],
             [
              0.2222222222222222,
              "#3e4989"
             ],
             [
              0.3333333333333333,
              "#31688e"
             ],
             [
              0.4444444444444444,
              "#26828e"
             ],
             [
              0.5555555555555556,
              "#1f9e89"
             ],
             [
              0.6666666666666666,
              "#35b779"
             ],
             [
              0.7777777777777778,
              "#6ece58"
             ],
             [
              0.8888888888888888,
              "#b5de2b"
             ],
             [
              1,
              "#fde725"
             ]
            ],
            "type": "histogram2d"
           }
          ],
          "histogram2dcontour": [
           {
            "colorbar": {
             "outlinewidth": 1,
             "tickcolor": "rgb(36,36,36)",
             "ticks": "outside"
            },
            "colorscale": [
             [
              0,
              "#440154"
             ],
             [
              0.1111111111111111,
              "#482878"
             ],
             [
              0.2222222222222222,
              "#3e4989"
             ],
             [
              0.3333333333333333,
              "#31688e"
             ],
             [
              0.4444444444444444,
              "#26828e"
             ],
             [
              0.5555555555555556,
              "#1f9e89"
             ],
             [
              0.6666666666666666,
              "#35b779"
             ],
             [
              0.7777777777777778,
              "#6ece58"
             ],
             [
              0.8888888888888888,
              "#b5de2b"
             ],
             [
              1,
              "#fde725"
             ]
            ],
            "type": "histogram2dcontour"
           }
          ],
          "mesh3d": [
           {
            "colorbar": {
             "outlinewidth": 1,
             "tickcolor": "rgb(36,36,36)",
             "ticks": "outside"
            },
            "type": "mesh3d"
           }
          ],
          "parcoords": [
           {
            "line": {
             "colorbar": {
              "outlinewidth": 1,
              "tickcolor": "rgb(36,36,36)",
              "ticks": "outside"
             }
            },
            "type": "parcoords"
           }
          ],
          "pie": [
           {
            "automargin": true,
            "type": "pie"
           }
          ],
          "scatter": [
           {
            "fillpattern": {
             "fillmode": "overlay",
             "size": 10,
             "solidity": 0.2
            },
            "type": "scatter"
           }
          ],
          "scatter3d": [
           {
            "line": {
             "colorbar": {
              "outlinewidth": 1,
              "tickcolor": "rgb(36,36,36)",
              "ticks": "outside"
             }
            },
            "marker": {
             "colorbar": {
              "outlinewidth": 1,
              "tickcolor": "rgb(36,36,36)",
              "ticks": "outside"
             }
            },
            "type": "scatter3d"
           }
          ],
          "scattercarpet": [
           {
            "marker": {
             "colorbar": {
              "outlinewidth": 1,
              "tickcolor": "rgb(36,36,36)",
              "ticks": "outside"
             }
            },
            "type": "scattercarpet"
           }
          ],
          "scattergeo": [
           {
            "marker": {
             "colorbar": {
              "outlinewidth": 1,
              "tickcolor": "rgb(36,36,36)",
              "ticks": "outside"
             }
            },
            "type": "scattergeo"
           }
          ],
          "scattergl": [
           {
            "marker": {
             "colorbar": {
              "outlinewidth": 1,
              "tickcolor": "rgb(36,36,36)",
              "ticks": "outside"
             }
            },
            "type": "scattergl"
           }
          ],
          "scattermap": [
           {
            "marker": {
             "colorbar": {
              "outlinewidth": 1,
              "tickcolor": "rgb(36,36,36)",
              "ticks": "outside"
             }
            },
            "type": "scattermap"
           }
          ],
          "scattermapbox": [
           {
            "marker": {
             "colorbar": {
              "outlinewidth": 1,
              "tickcolor": "rgb(36,36,36)",
              "ticks": "outside"
             }
            },
            "type": "scattermapbox"
           }
          ],
          "scatterpolar": [
           {
            "marker": {
             "colorbar": {
              "outlinewidth": 1,
              "tickcolor": "rgb(36,36,36)",
              "ticks": "outside"
             }
            },
            "type": "scatterpolar"
           }
          ],
          "scatterpolargl": [
           {
            "marker": {
             "colorbar": {
              "outlinewidth": 1,
              "tickcolor": "rgb(36,36,36)",
              "ticks": "outside"
             }
            },
            "type": "scatterpolargl"
           }
          ],
          "scatterternary": [
           {
            "marker": {
             "colorbar": {
              "outlinewidth": 1,
              "tickcolor": "rgb(36,36,36)",
              "ticks": "outside"
             }
            },
            "type": "scatterternary"
           }
          ],
          "surface": [
           {
            "colorbar": {
             "outlinewidth": 1,
             "tickcolor": "rgb(36,36,36)",
             "ticks": "outside"
            },
            "colorscale": [
             [
              0,
              "#440154"
             ],
             [
              0.1111111111111111,
              "#482878"
             ],
             [
              0.2222222222222222,
              "#3e4989"
             ],
             [
              0.3333333333333333,
              "#31688e"
             ],
             [
              0.4444444444444444,
              "#26828e"
             ],
             [
              0.5555555555555556,
              "#1f9e89"
             ],
             [
              0.6666666666666666,
              "#35b779"
             ],
             [
              0.7777777777777778,
              "#6ece58"
             ],
             [
              0.8888888888888888,
              "#b5de2b"
             ],
             [
              1,
              "#fde725"
             ]
            ],
            "type": "surface"
           }
          ],
          "table": [
           {
            "cells": {
             "fill": {
              "color": "rgb(237,237,237)"
             },
             "line": {
              "color": "white"
             }
            },
            "header": {
             "fill": {
              "color": "rgb(217,217,217)"
             },
             "line": {
              "color": "white"
             }
            },
            "type": "table"
           }
          ]
         },
         "layout": {
          "annotationdefaults": {
           "arrowhead": 0,
           "arrowwidth": 1
          },
          "autotypenumbers": "strict",
          "coloraxis": {
           "colorbar": {
            "outlinewidth": 1,
            "tickcolor": "rgb(36,36,36)",
            "ticks": "outside"
           }
          },
          "colorscale": {
           "diverging": [
            [
             0,
             "rgb(103,0,31)"
            ],
            [
             0.1,
             "rgb(178,24,43)"
            ],
            [
             0.2,
             "rgb(214,96,77)"
            ],
            [
             0.3,
             "rgb(244,165,130)"
            ],
            [
             0.4,
             "rgb(253,219,199)"
            ],
            [
             0.5,
             "rgb(247,247,247)"
            ],
            [
             0.6,
             "rgb(209,229,240)"
            ],
            [
             0.7,
             "rgb(146,197,222)"
            ],
            [
             0.8,
             "rgb(67,147,195)"
            ],
            [
             0.9,
             "rgb(33,102,172)"
            ],
            [
             1,
             "rgb(5,48,97)"
            ]
           ],
           "sequential": [
            [
             0,
             "#440154"
            ],
            [
             0.1111111111111111,
             "#482878"
            ],
            [
             0.2222222222222222,
             "#3e4989"
            ],
            [
             0.3333333333333333,
             "#31688e"
            ],
            [
             0.4444444444444444,
             "#26828e"
            ],
            [
             0.5555555555555556,
             "#1f9e89"
            ],
            [
             0.6666666666666666,
             "#35b779"
            ],
            [
             0.7777777777777778,
             "#6ece58"
            ],
            [
             0.8888888888888888,
             "#b5de2b"
            ],
            [
             1,
             "#fde725"
            ]
           ],
           "sequentialminus": [
            [
             0,
             "#440154"
            ],
            [
             0.1111111111111111,
             "#482878"
            ],
            [
             0.2222222222222222,
             "#3e4989"
            ],
            [
             0.3333333333333333,
             "#31688e"
            ],
            [
             0.4444444444444444,
             "#26828e"
            ],
            [
             0.5555555555555556,
             "#1f9e89"
            ],
            [
             0.6666666666666666,
             "#35b779"
            ],
            [
             0.7777777777777778,
             "#6ece58"
            ],
            [
             0.8888888888888888,
             "#b5de2b"
            ],
            [
             1,
             "#fde725"
            ]
           ]
          },
          "colorway": [
           "#1F77B4",
           "#FF7F0E",
           "#2CA02C",
           "#D62728",
           "#9467BD",
           "#8C564B",
           "#E377C2",
           "#7F7F7F",
           "#BCBD22",
           "#17BECF"
          ],
          "font": {
           "color": "rgb(36,36,36)"
          },
          "geo": {
           "bgcolor": "white",
           "lakecolor": "white",
           "landcolor": "white",
           "showlakes": true,
           "showland": true,
           "subunitcolor": "white"
          },
          "hoverlabel": {
           "align": "left"
          },
          "hovermode": "closest",
          "mapbox": {
           "style": "light"
          },
          "paper_bgcolor": "white",
          "plot_bgcolor": "white",
          "polar": {
           "angularaxis": {
            "gridcolor": "rgb(232,232,232)",
            "linecolor": "rgb(36,36,36)",
            "showgrid": false,
            "showline": true,
            "ticks": "outside"
           },
           "bgcolor": "white",
           "radialaxis": {
            "gridcolor": "rgb(232,232,232)",
            "linecolor": "rgb(36,36,36)",
            "showgrid": false,
            "showline": true,
            "ticks": "outside"
           }
          },
          "scene": {
           "xaxis": {
            "backgroundcolor": "white",
            "gridcolor": "rgb(232,232,232)",
            "gridwidth": 2,
            "linecolor": "rgb(36,36,36)",
            "showbackground": true,
            "showgrid": false,
            "showline": true,
            "ticks": "outside",
            "zeroline": false,
            "zerolinecolor": "rgb(36,36,36)"
           },
           "yaxis": {
            "backgroundcolor": "white",
            "gridcolor": "rgb(232,232,232)",
            "gridwidth": 2,
            "linecolor": "rgb(36,36,36)",
            "showbackground": true,
            "showgrid": false,
            "showline": true,
            "ticks": "outside",
            "zeroline": false,
            "zerolinecolor": "rgb(36,36,36)"
           },
           "zaxis": {
            "backgroundcolor": "white",
            "gridcolor": "rgb(232,232,232)",
            "gridwidth": 2,
            "linecolor": "rgb(36,36,36)",
            "showbackground": true,
            "showgrid": false,
            "showline": true,
            "ticks": "outside",
            "zeroline": false,
            "zerolinecolor": "rgb(36,36,36)"
           }
          },
          "shapedefaults": {
           "fillcolor": "black",
           "line": {
            "width": 0
           },
           "opacity": 0.3
          },
          "ternary": {
           "aaxis": {
            "gridcolor": "rgb(232,232,232)",
            "linecolor": "rgb(36,36,36)",
            "showgrid": false,
            "showline": true,
            "ticks": "outside"
           },
           "baxis": {
            "gridcolor": "rgb(232,232,232)",
            "linecolor": "rgb(36,36,36)",
            "showgrid": false,
            "showline": true,
            "ticks": "outside"
           },
           "bgcolor": "white",
           "caxis": {
            "gridcolor": "rgb(232,232,232)",
            "linecolor": "rgb(36,36,36)",
            "showgrid": false,
            "showline": true,
            "ticks": "outside"
           }
          },
          "title": {
           "x": 0.05
          },
          "xaxis": {
           "automargin": true,
           "gridcolor": "rgb(232,232,232)",
           "linecolor": "rgb(36,36,36)",
           "showgrid": false,
           "showline": true,
           "ticks": "outside",
           "title": {
            "standoff": 15
           },
           "zeroline": false,
           "zerolinecolor": "rgb(36,36,36)"
          },
          "yaxis": {
           "automargin": true,
           "gridcolor": "rgb(232,232,232)",
           "linecolor": "rgb(36,36,36)",
           "showgrid": false,
           "showline": true,
           "ticks": "outside",
           "title": {
            "standoff": 15
           },
           "zeroline": false,
           "zerolinecolor": "rgb(36,36,36)"
          }
         }
        },
        "title": {
         "text": "t-SNE Visualization"
        },
        "width": 700,
        "xaxis": {
         "anchor": "y",
         "domain": [
          0,
          1
         ],
         "title": {
          "text": "Dimension 1"
         }
        },
        "yaxis": {
         "anchor": "x",
         "domain": [
          0,
          1
         ],
         "title": {
          "text": "Dimension 2"
         }
        }
       }
      }
     },
     "metadata": {},
     "output_type": "display_data"
    }
   ],
   "source": [
    "import plotly.express as px\n",
    "import pandas as pd\n",
    "import numpy as np\n",
    "\n",
    "# Example data (replace with your X_embedded and y)\n",
    "# X_embedded = np.random.rand(100, 2)\n",
    "# y = np.random.choice(['Class A', 'Class B', 'Class C'], 100)\n",
    "\n",
    "# Combine into a DataFrame\n",
    "df_plot = pd.DataFrame({\n",
    "    'Dim1': X_embedded[:, 0],\n",
    "    'Dim2': X_embedded[:, 1],\n",
    "    'Label': y\n",
    "})\n",
    "\n",
    "# Create interactive scatter\n",
    "fig = px.scatter(\n",
    "    df_plot,\n",
    "    x='Dim1',\n",
    "    y='Dim2',\n",
    "    color='Label',\n",
    "    color_discrete_sequence=px.colors.qualitative.Set1,\n",
    "    title='t-SNE Visualization',\n",
    "    labels={'Dim1': 'Dimension 1', 'Dim2': 'Dimension 2'},\n",
    "    opacity=0.8\n",
    ")\n",
    "\n",
    "# Customize marker appearance\n",
    "fig.update_traces(marker=dict(size=8, line=dict(width=0.5, color='black')))\n",
    "\n",
    "# Adjust layout\n",
    "fig.update_layout(\n",
    "    width=700,\n",
    "    height=500,\n",
    "    legend_title='Sub Types',\n",
    "    template='simple_white'\n",
    ")\n",
    "\n",
    "fig.show()"
   ]
  },
  {
   "cell_type": "code",
   "execution_count": 85,
   "id": "c95df433",
   "metadata": {},
   "outputs": [],
   "source": [
    "results_file = '/Users/kaushikrajnadar/Downloads/AttentionMOI-master/Results.xlsx'\n",
    "\n",
    "results_df = pd.read_excel(results_file, sheet_name='Sheet2')"
   ]
  },
  {
   "cell_type": "code",
   "execution_count": 86,
   "id": "a0c1b02b",
   "metadata": {},
   "outputs": [
    {
     "data": {
      "text/plain": [
       "Index(['Model', 'Feature Selection', 'Omics Type', 'Test_ACC',\n",
       "       'Test_Precision', 'Test_F1', 'Test_AUC', 'Test_Recall'],\n",
       "      dtype='object')"
      ]
     },
     "execution_count": 86,
     "metadata": {},
     "output_type": "execute_result"
    }
   ],
   "source": [
    "results_df.columns"
   ]
  },
  {
   "cell_type": "code",
   "execution_count": 87,
   "id": "ffa4f433",
   "metadata": {},
   "outputs": [],
   "source": [
    "results_df['Feature Selection'] = results_df['Feature Selection'].fillna('No Selection')"
   ]
  },
  {
   "cell_type": "code",
   "execution_count": 88,
   "id": "e92e94e3",
   "metadata": {},
   "outputs": [
    {
     "data": {
      "application/vnd.microsoft.datawrangler.viewer.v0+json": {
       "columns": [
        {
         "name": "Feature Selection",
         "rawType": "object",
         "type": "string"
        },
        {
         "name": "count",
         "rawType": "int64",
         "type": "integer"
        }
       ],
       "ref": "1a4ef3f6-961a-4923-8230-645754171d42",
       "rows": [
        [
         "ANOVA",
         "5"
        ],
        [
         "FSD_ANOVA",
         "5"
        ],
        [
         "FSD_LASSO",
         "5"
        ],
        [
         "FSD_PCA",
         "5"
        ],
        [
         "FSD_RFE",
         "5"
        ],
        [
         "LASSO",
         "5"
        ],
        [
         "No Selection",
         "5"
        ],
        [
         "PCA",
         "5"
        ],
        [
         "RFE",
         "5"
        ]
       ],
       "shape": {
        "columns": 1,
        "rows": 9
       }
      },
      "text/plain": [
       "Feature Selection\n",
       "ANOVA           5\n",
       "FSD_ANOVA       5\n",
       "FSD_LASSO       5\n",
       "FSD_PCA         5\n",
       "FSD_RFE         5\n",
       "LASSO           5\n",
       "No Selection    5\n",
       "PCA             5\n",
       "RFE             5\n",
       "Name: count, dtype: int64"
      ]
     },
     "execution_count": 88,
     "metadata": {},
     "output_type": "execute_result"
    }
   ],
   "source": [
    "results_df.value_counts('Feature Selection')"
   ]
  },
  {
   "cell_type": "code",
   "execution_count": 89,
   "id": "b44ac0a8",
   "metadata": {},
   "outputs": [],
   "source": [
    "# Define the desired order\n",
    "order = ['No Selection', 'ANOVA', 'LASSO', 'PCA', 'RFE', 'FSD_ANOVA', 'FSD_LASSO', 'FSD_PCA', 'FSD_RFE']\n",
    "\n",
    "# Convert the column to an ordered categorical type\n",
    "results_df['Feature Selection'] = pd.Categorical(results_df['Feature Selection'], categories=order, ordered=True)\n"
   ]
  },
  {
   "cell_type": "code",
   "execution_count": 90,
   "id": "11847a64",
   "metadata": {},
   "outputs": [],
   "source": [
    "# Sort by this categorical order\n",
    "results_df = results_df.sort_values('Feature Selection')"
   ]
  },
  {
   "cell_type": "code",
   "execution_count": 91,
   "id": "67f85b44",
   "metadata": {},
   "outputs": [
    {
     "data": {
      "application/vnd.microsoft.datawrangler.viewer.v0+json": {
       "columns": [
        {
         "name": "index",
         "rawType": "int64",
         "type": "integer"
        },
        {
         "name": "Model",
         "rawType": "object",
         "type": "string"
        },
        {
         "name": "Feature Selection",
         "rawType": "category",
         "type": "unknown"
        },
        {
         "name": "Omics Type",
         "rawType": "object",
         "type": "string"
        },
        {
         "name": "Test_ACC",
         "rawType": "float64",
         "type": "float"
        },
        {
         "name": "Test_Precision",
         "rawType": "float64",
         "type": "float"
        },
        {
         "name": "Test_F1",
         "rawType": "float64",
         "type": "float"
        },
        {
         "name": "Test_AUC",
         "rawType": "float64",
         "type": "float"
        },
        {
         "name": "Test_Recall",
         "rawType": "float64",
         "type": "float"
        }
       ],
       "ref": "813c6eb5-2af8-4686-83a3-d87dbf0b9fe1",
       "rows": [
        [
         "0",
         "DNN",
         "No Selection",
         "['rna', 'met', 'cnv']",
         "0.9125",
         "0.909523809523809",
         "0.915235010212179",
         "0.97860643511613",
         "0.923211875843454"
        ],
        [
         "1",
         "Net",
         "No Selection",
         "['rna', 'met', 'cnv']",
         "0.9125",
         "0.920601135190918",
         "0.919034182262525",
         "0.984383043758043",
         "0.919578507078507"
        ],
        [
         "2",
         "RF",
         "No Selection",
         "['rna', 'met', 'cnv']",
         "0.941798941798941",
         "0.932539682539682",
         "0.938037841104018",
         "0.983919982254599",
         "0.944013262351732"
        ],
        [
         "3",
         "XGboost",
         "No Selection",
         "['rna', 'met', 'cnv']",
         "0.941798941798941",
         "0.9226559919331",
         "0.93253841710774",
         "0.986902260203605",
         "0.944013262351732"
        ],
        [
         "4",
         "svm",
         "No Selection",
         "['rna', 'met', 'cnv']",
         "0.952380952380952",
         "0.940554970333756",
         "0.945964465987154",
         "0.980360978798916",
         "0.951765200336228"
        ],
        [
         "26",
         "Net",
         "ANOVA",
         "['rna', 'met', 'cnv']",
         "0.89375",
         "0.855950812472551",
         "0.87134951042997",
         "0.968301435406698",
         "0.89385078858763"
        ],
        [
         "27",
         "RF",
         "ANOVA",
         "['rna', 'met', 'cnv']",
         "0.936507936507936",
         "0.928660299461149",
         "0.934072233790807",
         "0.981279770243765",
         "0.940137293359484"
        ],
        [
         "28",
         "XGboost",
         "ANOVA",
         "['rna', 'met', 'cnv']",
         "0.936507936507936",
         "0.918820920829529",
         "0.928571428571428",
         "0.979777248528999",
         "0.940137293359484"
        ],
        [
         "29",
         "svm",
         "ANOVA",
         "['rna', 'met', 'cnv']",
         "0.941798941798941",
         "0.920616913810334",
         "0.925663899345124",
         "0.983646212758008",
         "0.931082469412533"
        ],
        [
         "25",
         "DNN",
         "ANOVA",
         "['rna', 'met', 'cnv']",
         "0.925",
         "0.899346148514394",
         "0.899086698697138",
         "0.975793925413302",
         "0.898888888888889"
        ],
        [
         "35",
         "DNN",
         "LASSO",
         "['rna', 'met', 'cnv']",
         "0.91875",
         "0.894825772063623",
         "0.907385294543349",
         "0.977164721799425",
         "0.922539320142059"
        ],
        [
         "38",
         "XGboost",
         "LASSO",
         "['rna', 'met', 'cnv']",
         "0.92063492063492",
         "0.898117099765295",
         "0.91148268247558",
         "0.980385495470253",
         "0.92836929111796"
        ],
        [
         "37",
         "RF",
         "LASSO",
         "['rna', 'met', 'cnv']",
         "0.92063492063492",
         "0.908850408850408",
         "0.916620931621463",
         "0.985482044456897",
         "0.92864948164752"
        ],
        [
         "39",
         "svm",
         "LASSO",
         "['rna', 'met', 'cnv']",
         "0.91005291005291",
         "0.907793664143537",
         "0.907469654528478",
         "0.976655459045484",
         "0.907826655459045"
        ],
        [
         "36",
         "Net",
         "LASSO",
         "['rna', 'met', 'cnv']",
         "0.9125",
         "0.894205209994683",
         "0.898452134476979",
         "0.971272898830894",
         "0.90503314001657"
        ],
        [
         "40",
         "DNN",
         "PCA",
         "['rna', 'met', 'cnv']",
         "0.9375",
         "0.905250257997936",
         "0.911661069320345",
         "0.977063734214763",
         "0.918688024408848"
        ],
        [
         "41",
         "Net",
         "PCA",
         "['rna', 'met', 'cnv']",
         "0.9125",
         "0.917006292006292",
         "0.908261005551645",
         "0.979439153439153",
         "0.900952380952381"
        ],
        [
         "42",
         "RF",
         "PCA",
         "['rna', 'met', 'cnv']",
         "0.941798941798941",
         "0.911424920461065",
         "0.920630420843036",
         "0.984603530400672",
         "0.931222564677313"
        ],
        [
         "43",
         "XGboost",
         "PCA",
         "['rna', 'met', 'cnv']",
         "0.936507936507936",
         "0.898765088638506",
         "0.920452990643385",
         "0.983557485756981",
         "0.952647800504343"
        ],
        [
         "44",
         "svm",
         "PCA",
         "['rna', 'met', 'cnv']",
         "0.936507936507936",
         "0.918677448806573",
         "0.928629654945444",
         "0.988949985990473",
         "0.939997198094704"
        ],
        [
         "32",
         "RF",
         "RFE",
         "['rna', 'met', 'cnv']",
         "0.936507936507936",
         "0.918820920829529",
         "0.928571428571428",
         "0.96797247128047",
         "0.940137293359484"
        ],
        [
         "30",
         "DNN",
         "RFE",
         "['rna', 'met', 'cnv']",
         "0.89375",
         "0.85974945533769",
         "0.87346867106987",
         "0.972347569164652",
         "0.89092130002686"
        ],
        [
         "31",
         "Net",
         "RFE",
         "['rna', 'met', 'cnv']",
         "0.90625",
         "0.900117916908961",
         "0.891445062873634",
         "0.973258892598135",
         "0.885794865891562"
        ],
        [
         "33",
         "XGboost",
         "RFE",
         "['rna', 'met', 'cnv']",
         "0.925925925925925",
         "0.901862512413944",
         "0.915488676090591",
         "0.972090688334734",
         "0.932105164845428"
        ],
        [
         "34",
         "svm",
         "RFE",
         "['rna', 'met', 'cnv']",
         "0.878306878306878",
         "0.832222222222222",
         "0.848291163772939",
         "0.962607406369664",
         "0.870939572242458"
        ],
        [
         "5",
         "DNN",
         "FSD_ANOVA",
         "['rna', 'met', 'cnv']",
         "0.925",
         "0.896478328173374",
         "0.909523809523809",
         "0.972914879164879",
         "0.92576505076505"
        ],
        [
         "6",
         "Net",
         "FSD_ANOVA",
         "['rna', 'met', 'cnv']",
         "0.9125",
         "0.875941499930687",
         "0.886512601998937",
         "0.968040757652629",
         "0.90025367833587"
        ],
        [
         "7",
         "RF",
         "FSD_ANOVA",
         "['rna', 'met', 'cnv']",
         "0.936507936507936",
         "0.918820920829529",
         "0.928571428571428",
         "0.982107499766507",
         "0.940137293359484"
        ],
        [
         "8",
         "XGboost",
         "FSD_ANOVA",
         "['rna', 'met', 'cnv']",
         "0.931216931216931",
         "0.905884407193993",
         "0.919463736326895",
         "0.971682077145792",
         "0.936121229102456"
        ],
        [
         "9",
         "svm",
         "FSD_ANOVA",
         "['rna', 'met', 'cnv']",
         "0.936507936507936",
         "0.907429158075152",
         "0.916551873159927",
         "0.979172503969365",
         "0.927066405155505"
        ],
        [
         "18",
         "XGboost",
         "FSD_LASSO",
         "['rna', 'met', 'cnv']",
         "0.915343915343915",
         "0.893808215717849",
         "0.907443894920385",
         "0.978960026151116",
         "0.924073036331371"
        ],
        [
         "17",
         "RF",
         "FSD_LASSO",
         "['rna', 'met', 'cnv']",
         "0.904761904761904",
         "0.894686973000225",
         "0.904783276501378",
         "0.983532385355374",
         "0.916461193611655"
        ],
        [
         "16",
         "Net",
         "FSD_LASSO",
         "['rna', 'met', 'cnv']",
         "0.9125",
         "0.91059829059829",
         "0.914862948652903",
         "0.976532881499523",
         "0.920819654770729"
        ],
        [
         "15",
         "DNN",
         "FSD_LASSO",
         "['rna', 'met', 'cnv']",
         "0.9375",
         "0.916830466830466",
         "0.932732732732732",
         "0.979314992742102",
         "0.952996474735605"
        ],
        [
         "19",
         "svm",
         "FSD_LASSO",
         "['rna', 'met', 'cnv']",
         "0.915343915343915",
         "0.911999625888514",
         "0.911385416301899",
         "0.976431306621836",
         "0.911842719716073"
        ],
        [
         "20",
         "DNN",
         "FSD_PCA",
         "['rna', 'met', 'cnv']",
         "0.93125",
         "0.919264533075274",
         "0.925589323723978",
         "0.980259773662551",
         "0.93287037037037"
        ],
        [
         "24",
         "svm",
         "FSD_PCA",
         "['rna', 'met', 'cnv']",
         "0.952380952380952",
         "0.932421855274453",
         "0.946916497395293",
         "0.989666806761931",
         "0.964555898010647"
        ],
        [
         "23",
         "XGboost",
         "FSD_PCA",
         "['rna', 'met', 'cnv']",
         "0.941798941798941",
         "0.922580673226668",
         "0.932424889032943",
         "0.990883300644438",
         "0.943733071822172"
        ],
        [
         "21",
         "Net",
         "FSD_PCA",
         "['rna', 'met', 'cnv']",
         "0.90625",
         "0.89089799089799",
         "0.893808632154941",
         "0.981021942658771",
         "0.901572928427148"
        ],
        [
         "22",
         "RF",
         "FSD_PCA",
         "['rna', 'met', 'cnv']",
         "0.947089947089947",
         "0.936503436716051",
         "0.942001639420325",
         "0.987720066311758",
         "0.94788923134398"
        ],
        [
         "11",
         "Net",
         "FSD_RFE",
         "['rna', 'met', 'cnv']",
         "0.83125",
         "0.821091524216524",
         "0.829286988395515",
         "0.945838558749759",
         "0.843020451475979"
        ],
        [
         "10",
         "DNN",
         "FSD_RFE",
         "['rna', 'met', 'cnv']",
         "0.875",
         "0.841681477376242",
         "0.85720994334133",
         "0.959090241034685",
         "0.878439153439153"
        ],
        [
         "13",
         "XGboost",
         "FSD_RFE",
         "['rna', 'met', 'cnv']",
         "0.92063492063492",
         "0.890150031018382",
         "0.906682206682206",
         "0.958906556458391",
         "0.92822919585318"
        ],
        [
         "14",
         "svm",
         "FSD_RFE",
         "['rna', 'met', 'cnv']",
         "0.878306878306878",
         "0.832222222222222",
         "0.848291163772939",
         "0.960472121042308",
         "0.870939572242458"
        ],
        [
         "12",
         "RF",
         "FSD_RFE",
         "['rna', 'met', 'cnv']",
         "0.92063492063492",
         "0.906625798878309",
         "0.916650211387053",
         "0.966554590454842",
         "0.9280891005884"
        ]
       ],
       "shape": {
        "columns": 8,
        "rows": 45
       }
      },
      "text/html": [
       "<div>\n",
       "<style scoped>\n",
       "    .dataframe tbody tr th:only-of-type {\n",
       "        vertical-align: middle;\n",
       "    }\n",
       "\n",
       "    .dataframe tbody tr th {\n",
       "        vertical-align: top;\n",
       "    }\n",
       "\n",
       "    .dataframe thead th {\n",
       "        text-align: right;\n",
       "    }\n",
       "</style>\n",
       "<table border=\"1\" class=\"dataframe\">\n",
       "  <thead>\n",
       "    <tr style=\"text-align: right;\">\n",
       "      <th></th>\n",
       "      <th>Model</th>\n",
       "      <th>Feature Selection</th>\n",
       "      <th>Omics Type</th>\n",
       "      <th>Test_ACC</th>\n",
       "      <th>Test_Precision</th>\n",
       "      <th>Test_F1</th>\n",
       "      <th>Test_AUC</th>\n",
       "      <th>Test_Recall</th>\n",
       "    </tr>\n",
       "  </thead>\n",
       "  <tbody>\n",
       "    <tr>\n",
       "      <th>0</th>\n",
       "      <td>DNN</td>\n",
       "      <td>No Selection</td>\n",
       "      <td>['rna', 'met', 'cnv']</td>\n",
       "      <td>0.912500</td>\n",
       "      <td>0.909524</td>\n",
       "      <td>0.915235</td>\n",
       "      <td>0.978606</td>\n",
       "      <td>0.923212</td>\n",
       "    </tr>\n",
       "    <tr>\n",
       "      <th>1</th>\n",
       "      <td>Net</td>\n",
       "      <td>No Selection</td>\n",
       "      <td>['rna', 'met', 'cnv']</td>\n",
       "      <td>0.912500</td>\n",
       "      <td>0.920601</td>\n",
       "      <td>0.919034</td>\n",
       "      <td>0.984383</td>\n",
       "      <td>0.919579</td>\n",
       "    </tr>\n",
       "    <tr>\n",
       "      <th>2</th>\n",
       "      <td>RF</td>\n",
       "      <td>No Selection</td>\n",
       "      <td>['rna', 'met', 'cnv']</td>\n",
       "      <td>0.941799</td>\n",
       "      <td>0.932540</td>\n",
       "      <td>0.938038</td>\n",
       "      <td>0.983920</td>\n",
       "      <td>0.944013</td>\n",
       "    </tr>\n",
       "    <tr>\n",
       "      <th>3</th>\n",
       "      <td>XGboost</td>\n",
       "      <td>No Selection</td>\n",
       "      <td>['rna', 'met', 'cnv']</td>\n",
       "      <td>0.941799</td>\n",
       "      <td>0.922656</td>\n",
       "      <td>0.932538</td>\n",
       "      <td>0.986902</td>\n",
       "      <td>0.944013</td>\n",
       "    </tr>\n",
       "    <tr>\n",
       "      <th>4</th>\n",
       "      <td>svm</td>\n",
       "      <td>No Selection</td>\n",
       "      <td>['rna', 'met', 'cnv']</td>\n",
       "      <td>0.952381</td>\n",
       "      <td>0.940555</td>\n",
       "      <td>0.945964</td>\n",
       "      <td>0.980361</td>\n",
       "      <td>0.951765</td>\n",
       "    </tr>\n",
       "    <tr>\n",
       "      <th>26</th>\n",
       "      <td>Net</td>\n",
       "      <td>ANOVA</td>\n",
       "      <td>['rna', 'met', 'cnv']</td>\n",
       "      <td>0.893750</td>\n",
       "      <td>0.855951</td>\n",
       "      <td>0.871350</td>\n",
       "      <td>0.968301</td>\n",
       "      <td>0.893851</td>\n",
       "    </tr>\n",
       "    <tr>\n",
       "      <th>27</th>\n",
       "      <td>RF</td>\n",
       "      <td>ANOVA</td>\n",
       "      <td>['rna', 'met', 'cnv']</td>\n",
       "      <td>0.936508</td>\n",
       "      <td>0.928660</td>\n",
       "      <td>0.934072</td>\n",
       "      <td>0.981280</td>\n",
       "      <td>0.940137</td>\n",
       "    </tr>\n",
       "    <tr>\n",
       "      <th>28</th>\n",
       "      <td>XGboost</td>\n",
       "      <td>ANOVA</td>\n",
       "      <td>['rna', 'met', 'cnv']</td>\n",
       "      <td>0.936508</td>\n",
       "      <td>0.918821</td>\n",
       "      <td>0.928571</td>\n",
       "      <td>0.979777</td>\n",
       "      <td>0.940137</td>\n",
       "    </tr>\n",
       "    <tr>\n",
       "      <th>29</th>\n",
       "      <td>svm</td>\n",
       "      <td>ANOVA</td>\n",
       "      <td>['rna', 'met', 'cnv']</td>\n",
       "      <td>0.941799</td>\n",
       "      <td>0.920617</td>\n",
       "      <td>0.925664</td>\n",
       "      <td>0.983646</td>\n",
       "      <td>0.931082</td>\n",
       "    </tr>\n",
       "    <tr>\n",
       "      <th>25</th>\n",
       "      <td>DNN</td>\n",
       "      <td>ANOVA</td>\n",
       "      <td>['rna', 'met', 'cnv']</td>\n",
       "      <td>0.925000</td>\n",
       "      <td>0.899346</td>\n",
       "      <td>0.899087</td>\n",
       "      <td>0.975794</td>\n",
       "      <td>0.898889</td>\n",
       "    </tr>\n",
       "    <tr>\n",
       "      <th>35</th>\n",
       "      <td>DNN</td>\n",
       "      <td>LASSO</td>\n",
       "      <td>['rna', 'met', 'cnv']</td>\n",
       "      <td>0.918750</td>\n",
       "      <td>0.894826</td>\n",
       "      <td>0.907385</td>\n",
       "      <td>0.977165</td>\n",
       "      <td>0.922539</td>\n",
       "    </tr>\n",
       "    <tr>\n",
       "      <th>38</th>\n",
       "      <td>XGboost</td>\n",
       "      <td>LASSO</td>\n",
       "      <td>['rna', 'met', 'cnv']</td>\n",
       "      <td>0.920635</td>\n",
       "      <td>0.898117</td>\n",
       "      <td>0.911483</td>\n",
       "      <td>0.980385</td>\n",
       "      <td>0.928369</td>\n",
       "    </tr>\n",
       "    <tr>\n",
       "      <th>37</th>\n",
       "      <td>RF</td>\n",
       "      <td>LASSO</td>\n",
       "      <td>['rna', 'met', 'cnv']</td>\n",
       "      <td>0.920635</td>\n",
       "      <td>0.908850</td>\n",
       "      <td>0.916621</td>\n",
       "      <td>0.985482</td>\n",
       "      <td>0.928649</td>\n",
       "    </tr>\n",
       "    <tr>\n",
       "      <th>39</th>\n",
       "      <td>svm</td>\n",
       "      <td>LASSO</td>\n",
       "      <td>['rna', 'met', 'cnv']</td>\n",
       "      <td>0.910053</td>\n",
       "      <td>0.907794</td>\n",
       "      <td>0.907470</td>\n",
       "      <td>0.976655</td>\n",
       "      <td>0.907827</td>\n",
       "    </tr>\n",
       "    <tr>\n",
       "      <th>36</th>\n",
       "      <td>Net</td>\n",
       "      <td>LASSO</td>\n",
       "      <td>['rna', 'met', 'cnv']</td>\n",
       "      <td>0.912500</td>\n",
       "      <td>0.894205</td>\n",
       "      <td>0.898452</td>\n",
       "      <td>0.971273</td>\n",
       "      <td>0.905033</td>\n",
       "    </tr>\n",
       "    <tr>\n",
       "      <th>40</th>\n",
       "      <td>DNN</td>\n",
       "      <td>PCA</td>\n",
       "      <td>['rna', 'met', 'cnv']</td>\n",
       "      <td>0.937500</td>\n",
       "      <td>0.905250</td>\n",
       "      <td>0.911661</td>\n",
       "      <td>0.977064</td>\n",
       "      <td>0.918688</td>\n",
       "    </tr>\n",
       "    <tr>\n",
       "      <th>41</th>\n",
       "      <td>Net</td>\n",
       "      <td>PCA</td>\n",
       "      <td>['rna', 'met', 'cnv']</td>\n",
       "      <td>0.912500</td>\n",
       "      <td>0.917006</td>\n",
       "      <td>0.908261</td>\n",
       "      <td>0.979439</td>\n",
       "      <td>0.900952</td>\n",
       "    </tr>\n",
       "    <tr>\n",
       "      <th>42</th>\n",
       "      <td>RF</td>\n",
       "      <td>PCA</td>\n",
       "      <td>['rna', 'met', 'cnv']</td>\n",
       "      <td>0.941799</td>\n",
       "      <td>0.911425</td>\n",
       "      <td>0.920630</td>\n",
       "      <td>0.984604</td>\n",
       "      <td>0.931223</td>\n",
       "    </tr>\n",
       "    <tr>\n",
       "      <th>43</th>\n",
       "      <td>XGboost</td>\n",
       "      <td>PCA</td>\n",
       "      <td>['rna', 'met', 'cnv']</td>\n",
       "      <td>0.936508</td>\n",
       "      <td>0.898765</td>\n",
       "      <td>0.920453</td>\n",
       "      <td>0.983557</td>\n",
       "      <td>0.952648</td>\n",
       "    </tr>\n",
       "    <tr>\n",
       "      <th>44</th>\n",
       "      <td>svm</td>\n",
       "      <td>PCA</td>\n",
       "      <td>['rna', 'met', 'cnv']</td>\n",
       "      <td>0.936508</td>\n",
       "      <td>0.918677</td>\n",
       "      <td>0.928630</td>\n",
       "      <td>0.988950</td>\n",
       "      <td>0.939997</td>\n",
       "    </tr>\n",
       "    <tr>\n",
       "      <th>32</th>\n",
       "      <td>RF</td>\n",
       "      <td>RFE</td>\n",
       "      <td>['rna', 'met', 'cnv']</td>\n",
       "      <td>0.936508</td>\n",
       "      <td>0.918821</td>\n",
       "      <td>0.928571</td>\n",
       "      <td>0.967972</td>\n",
       "      <td>0.940137</td>\n",
       "    </tr>\n",
       "    <tr>\n",
       "      <th>30</th>\n",
       "      <td>DNN</td>\n",
       "      <td>RFE</td>\n",
       "      <td>['rna', 'met', 'cnv']</td>\n",
       "      <td>0.893750</td>\n",
       "      <td>0.859749</td>\n",
       "      <td>0.873469</td>\n",
       "      <td>0.972348</td>\n",
       "      <td>0.890921</td>\n",
       "    </tr>\n",
       "    <tr>\n",
       "      <th>31</th>\n",
       "      <td>Net</td>\n",
       "      <td>RFE</td>\n",
       "      <td>['rna', 'met', 'cnv']</td>\n",
       "      <td>0.906250</td>\n",
       "      <td>0.900118</td>\n",
       "      <td>0.891445</td>\n",
       "      <td>0.973259</td>\n",
       "      <td>0.885795</td>\n",
       "    </tr>\n",
       "    <tr>\n",
       "      <th>33</th>\n",
       "      <td>XGboost</td>\n",
       "      <td>RFE</td>\n",
       "      <td>['rna', 'met', 'cnv']</td>\n",
       "      <td>0.925926</td>\n",
       "      <td>0.901863</td>\n",
       "      <td>0.915489</td>\n",
       "      <td>0.972091</td>\n",
       "      <td>0.932105</td>\n",
       "    </tr>\n",
       "    <tr>\n",
       "      <th>34</th>\n",
       "      <td>svm</td>\n",
       "      <td>RFE</td>\n",
       "      <td>['rna', 'met', 'cnv']</td>\n",
       "      <td>0.878307</td>\n",
       "      <td>0.832222</td>\n",
       "      <td>0.848291</td>\n",
       "      <td>0.962607</td>\n",
       "      <td>0.870940</td>\n",
       "    </tr>\n",
       "    <tr>\n",
       "      <th>5</th>\n",
       "      <td>DNN</td>\n",
       "      <td>FSD_ANOVA</td>\n",
       "      <td>['rna', 'met', 'cnv']</td>\n",
       "      <td>0.925000</td>\n",
       "      <td>0.896478</td>\n",
       "      <td>0.909524</td>\n",
       "      <td>0.972915</td>\n",
       "      <td>0.925765</td>\n",
       "    </tr>\n",
       "    <tr>\n",
       "      <th>6</th>\n",
       "      <td>Net</td>\n",
       "      <td>FSD_ANOVA</td>\n",
       "      <td>['rna', 'met', 'cnv']</td>\n",
       "      <td>0.912500</td>\n",
       "      <td>0.875941</td>\n",
       "      <td>0.886513</td>\n",
       "      <td>0.968041</td>\n",
       "      <td>0.900254</td>\n",
       "    </tr>\n",
       "    <tr>\n",
       "      <th>7</th>\n",
       "      <td>RF</td>\n",
       "      <td>FSD_ANOVA</td>\n",
       "      <td>['rna', 'met', 'cnv']</td>\n",
       "      <td>0.936508</td>\n",
       "      <td>0.918821</td>\n",
       "      <td>0.928571</td>\n",
       "      <td>0.982107</td>\n",
       "      <td>0.940137</td>\n",
       "    </tr>\n",
       "    <tr>\n",
       "      <th>8</th>\n",
       "      <td>XGboost</td>\n",
       "      <td>FSD_ANOVA</td>\n",
       "      <td>['rna', 'met', 'cnv']</td>\n",
       "      <td>0.931217</td>\n",
       "      <td>0.905884</td>\n",
       "      <td>0.919464</td>\n",
       "      <td>0.971682</td>\n",
       "      <td>0.936121</td>\n",
       "    </tr>\n",
       "    <tr>\n",
       "      <th>9</th>\n",
       "      <td>svm</td>\n",
       "      <td>FSD_ANOVA</td>\n",
       "      <td>['rna', 'met', 'cnv']</td>\n",
       "      <td>0.936508</td>\n",
       "      <td>0.907429</td>\n",
       "      <td>0.916552</td>\n",
       "      <td>0.979173</td>\n",
       "      <td>0.927066</td>\n",
       "    </tr>\n",
       "    <tr>\n",
       "      <th>18</th>\n",
       "      <td>XGboost</td>\n",
       "      <td>FSD_LASSO</td>\n",
       "      <td>['rna', 'met', 'cnv']</td>\n",
       "      <td>0.915344</td>\n",
       "      <td>0.893808</td>\n",
       "      <td>0.907444</td>\n",
       "      <td>0.978960</td>\n",
       "      <td>0.924073</td>\n",
       "    </tr>\n",
       "    <tr>\n",
       "      <th>17</th>\n",
       "      <td>RF</td>\n",
       "      <td>FSD_LASSO</td>\n",
       "      <td>['rna', 'met', 'cnv']</td>\n",
       "      <td>0.904762</td>\n",
       "      <td>0.894687</td>\n",
       "      <td>0.904783</td>\n",
       "      <td>0.983532</td>\n",
       "      <td>0.916461</td>\n",
       "    </tr>\n",
       "    <tr>\n",
       "      <th>16</th>\n",
       "      <td>Net</td>\n",
       "      <td>FSD_LASSO</td>\n",
       "      <td>['rna', 'met', 'cnv']</td>\n",
       "      <td>0.912500</td>\n",
       "      <td>0.910598</td>\n",
       "      <td>0.914863</td>\n",
       "      <td>0.976533</td>\n",
       "      <td>0.920820</td>\n",
       "    </tr>\n",
       "    <tr>\n",
       "      <th>15</th>\n",
       "      <td>DNN</td>\n",
       "      <td>FSD_LASSO</td>\n",
       "      <td>['rna', 'met', 'cnv']</td>\n",
       "      <td>0.937500</td>\n",
       "      <td>0.916830</td>\n",
       "      <td>0.932733</td>\n",
       "      <td>0.979315</td>\n",
       "      <td>0.952996</td>\n",
       "    </tr>\n",
       "    <tr>\n",
       "      <th>19</th>\n",
       "      <td>svm</td>\n",
       "      <td>FSD_LASSO</td>\n",
       "      <td>['rna', 'met', 'cnv']</td>\n",
       "      <td>0.915344</td>\n",
       "      <td>0.912000</td>\n",
       "      <td>0.911385</td>\n",
       "      <td>0.976431</td>\n",
       "      <td>0.911843</td>\n",
       "    </tr>\n",
       "    <tr>\n",
       "      <th>20</th>\n",
       "      <td>DNN</td>\n",
       "      <td>FSD_PCA</td>\n",
       "      <td>['rna', 'met', 'cnv']</td>\n",
       "      <td>0.931250</td>\n",
       "      <td>0.919265</td>\n",
       "      <td>0.925589</td>\n",
       "      <td>0.980260</td>\n",
       "      <td>0.932870</td>\n",
       "    </tr>\n",
       "    <tr>\n",
       "      <th>24</th>\n",
       "      <td>svm</td>\n",
       "      <td>FSD_PCA</td>\n",
       "      <td>['rna', 'met', 'cnv']</td>\n",
       "      <td>0.952381</td>\n",
       "      <td>0.932422</td>\n",
       "      <td>0.946916</td>\n",
       "      <td>0.989667</td>\n",
       "      <td>0.964556</td>\n",
       "    </tr>\n",
       "    <tr>\n",
       "      <th>23</th>\n",
       "      <td>XGboost</td>\n",
       "      <td>FSD_PCA</td>\n",
       "      <td>['rna', 'met', 'cnv']</td>\n",
       "      <td>0.941799</td>\n",
       "      <td>0.922581</td>\n",
       "      <td>0.932425</td>\n",
       "      <td>0.990883</td>\n",
       "      <td>0.943733</td>\n",
       "    </tr>\n",
       "    <tr>\n",
       "      <th>21</th>\n",
       "      <td>Net</td>\n",
       "      <td>FSD_PCA</td>\n",
       "      <td>['rna', 'met', 'cnv']</td>\n",
       "      <td>0.906250</td>\n",
       "      <td>0.890898</td>\n",
       "      <td>0.893809</td>\n",
       "      <td>0.981022</td>\n",
       "      <td>0.901573</td>\n",
       "    </tr>\n",
       "    <tr>\n",
       "      <th>22</th>\n",
       "      <td>RF</td>\n",
       "      <td>FSD_PCA</td>\n",
       "      <td>['rna', 'met', 'cnv']</td>\n",
       "      <td>0.947090</td>\n",
       "      <td>0.936503</td>\n",
       "      <td>0.942002</td>\n",
       "      <td>0.987720</td>\n",
       "      <td>0.947889</td>\n",
       "    </tr>\n",
       "    <tr>\n",
       "      <th>11</th>\n",
       "      <td>Net</td>\n",
       "      <td>FSD_RFE</td>\n",
       "      <td>['rna', 'met', 'cnv']</td>\n",
       "      <td>0.831250</td>\n",
       "      <td>0.821092</td>\n",
       "      <td>0.829287</td>\n",
       "      <td>0.945839</td>\n",
       "      <td>0.843020</td>\n",
       "    </tr>\n",
       "    <tr>\n",
       "      <th>10</th>\n",
       "      <td>DNN</td>\n",
       "      <td>FSD_RFE</td>\n",
       "      <td>['rna', 'met', 'cnv']</td>\n",
       "      <td>0.875000</td>\n",
       "      <td>0.841681</td>\n",
       "      <td>0.857210</td>\n",
       "      <td>0.959090</td>\n",
       "      <td>0.878439</td>\n",
       "    </tr>\n",
       "    <tr>\n",
       "      <th>13</th>\n",
       "      <td>XGboost</td>\n",
       "      <td>FSD_RFE</td>\n",
       "      <td>['rna', 'met', 'cnv']</td>\n",
       "      <td>0.920635</td>\n",
       "      <td>0.890150</td>\n",
       "      <td>0.906682</td>\n",
       "      <td>0.958907</td>\n",
       "      <td>0.928229</td>\n",
       "    </tr>\n",
       "    <tr>\n",
       "      <th>14</th>\n",
       "      <td>svm</td>\n",
       "      <td>FSD_RFE</td>\n",
       "      <td>['rna', 'met', 'cnv']</td>\n",
       "      <td>0.878307</td>\n",
       "      <td>0.832222</td>\n",
       "      <td>0.848291</td>\n",
       "      <td>0.960472</td>\n",
       "      <td>0.870940</td>\n",
       "    </tr>\n",
       "    <tr>\n",
       "      <th>12</th>\n",
       "      <td>RF</td>\n",
       "      <td>FSD_RFE</td>\n",
       "      <td>['rna', 'met', 'cnv']</td>\n",
       "      <td>0.920635</td>\n",
       "      <td>0.906626</td>\n",
       "      <td>0.916650</td>\n",
       "      <td>0.966555</td>\n",
       "      <td>0.928089</td>\n",
       "    </tr>\n",
       "  </tbody>\n",
       "</table>\n",
       "</div>"
      ],
      "text/plain": [
       "      Model Feature Selection             Omics Type  Test_ACC  \\\n",
       "0       DNN      No Selection  ['rna', 'met', 'cnv']  0.912500   \n",
       "1       Net      No Selection  ['rna', 'met', 'cnv']  0.912500   \n",
       "2        RF      No Selection  ['rna', 'met', 'cnv']  0.941799   \n",
       "3   XGboost      No Selection  ['rna', 'met', 'cnv']  0.941799   \n",
       "4       svm      No Selection  ['rna', 'met', 'cnv']  0.952381   \n",
       "26      Net             ANOVA  ['rna', 'met', 'cnv']  0.893750   \n",
       "27       RF             ANOVA  ['rna', 'met', 'cnv']  0.936508   \n",
       "28  XGboost             ANOVA  ['rna', 'met', 'cnv']  0.936508   \n",
       "29      svm             ANOVA  ['rna', 'met', 'cnv']  0.941799   \n",
       "25      DNN             ANOVA  ['rna', 'met', 'cnv']  0.925000   \n",
       "35      DNN             LASSO  ['rna', 'met', 'cnv']  0.918750   \n",
       "38  XGboost             LASSO  ['rna', 'met', 'cnv']  0.920635   \n",
       "37       RF             LASSO  ['rna', 'met', 'cnv']  0.920635   \n",
       "39      svm             LASSO  ['rna', 'met', 'cnv']  0.910053   \n",
       "36      Net             LASSO  ['rna', 'met', 'cnv']  0.912500   \n",
       "40      DNN               PCA  ['rna', 'met', 'cnv']  0.937500   \n",
       "41      Net               PCA  ['rna', 'met', 'cnv']  0.912500   \n",
       "42       RF               PCA  ['rna', 'met', 'cnv']  0.941799   \n",
       "43  XGboost               PCA  ['rna', 'met', 'cnv']  0.936508   \n",
       "44      svm               PCA  ['rna', 'met', 'cnv']  0.936508   \n",
       "32       RF               RFE  ['rna', 'met', 'cnv']  0.936508   \n",
       "30      DNN               RFE  ['rna', 'met', 'cnv']  0.893750   \n",
       "31      Net               RFE  ['rna', 'met', 'cnv']  0.906250   \n",
       "33  XGboost               RFE  ['rna', 'met', 'cnv']  0.925926   \n",
       "34      svm               RFE  ['rna', 'met', 'cnv']  0.878307   \n",
       "5       DNN         FSD_ANOVA  ['rna', 'met', 'cnv']  0.925000   \n",
       "6       Net         FSD_ANOVA  ['rna', 'met', 'cnv']  0.912500   \n",
       "7        RF         FSD_ANOVA  ['rna', 'met', 'cnv']  0.936508   \n",
       "8   XGboost         FSD_ANOVA  ['rna', 'met', 'cnv']  0.931217   \n",
       "9       svm         FSD_ANOVA  ['rna', 'met', 'cnv']  0.936508   \n",
       "18  XGboost         FSD_LASSO  ['rna', 'met', 'cnv']  0.915344   \n",
       "17       RF         FSD_LASSO  ['rna', 'met', 'cnv']  0.904762   \n",
       "16      Net         FSD_LASSO  ['rna', 'met', 'cnv']  0.912500   \n",
       "15      DNN         FSD_LASSO  ['rna', 'met', 'cnv']  0.937500   \n",
       "19      svm         FSD_LASSO  ['rna', 'met', 'cnv']  0.915344   \n",
       "20      DNN           FSD_PCA  ['rna', 'met', 'cnv']  0.931250   \n",
       "24      svm           FSD_PCA  ['rna', 'met', 'cnv']  0.952381   \n",
       "23  XGboost           FSD_PCA  ['rna', 'met', 'cnv']  0.941799   \n",
       "21      Net           FSD_PCA  ['rna', 'met', 'cnv']  0.906250   \n",
       "22       RF           FSD_PCA  ['rna', 'met', 'cnv']  0.947090   \n",
       "11      Net           FSD_RFE  ['rna', 'met', 'cnv']  0.831250   \n",
       "10      DNN           FSD_RFE  ['rna', 'met', 'cnv']  0.875000   \n",
       "13  XGboost           FSD_RFE  ['rna', 'met', 'cnv']  0.920635   \n",
       "14      svm           FSD_RFE  ['rna', 'met', 'cnv']  0.878307   \n",
       "12       RF           FSD_RFE  ['rna', 'met', 'cnv']  0.920635   \n",
       "\n",
       "    Test_Precision   Test_F1  Test_AUC  Test_Recall  \n",
       "0         0.909524  0.915235  0.978606     0.923212  \n",
       "1         0.920601  0.919034  0.984383     0.919579  \n",
       "2         0.932540  0.938038  0.983920     0.944013  \n",
       "3         0.922656  0.932538  0.986902     0.944013  \n",
       "4         0.940555  0.945964  0.980361     0.951765  \n",
       "26        0.855951  0.871350  0.968301     0.893851  \n",
       "27        0.928660  0.934072  0.981280     0.940137  \n",
       "28        0.918821  0.928571  0.979777     0.940137  \n",
       "29        0.920617  0.925664  0.983646     0.931082  \n",
       "25        0.899346  0.899087  0.975794     0.898889  \n",
       "35        0.894826  0.907385  0.977165     0.922539  \n",
       "38        0.898117  0.911483  0.980385     0.928369  \n",
       "37        0.908850  0.916621  0.985482     0.928649  \n",
       "39        0.907794  0.907470  0.976655     0.907827  \n",
       "36        0.894205  0.898452  0.971273     0.905033  \n",
       "40        0.905250  0.911661  0.977064     0.918688  \n",
       "41        0.917006  0.908261  0.979439     0.900952  \n",
       "42        0.911425  0.920630  0.984604     0.931223  \n",
       "43        0.898765  0.920453  0.983557     0.952648  \n",
       "44        0.918677  0.928630  0.988950     0.939997  \n",
       "32        0.918821  0.928571  0.967972     0.940137  \n",
       "30        0.859749  0.873469  0.972348     0.890921  \n",
       "31        0.900118  0.891445  0.973259     0.885795  \n",
       "33        0.901863  0.915489  0.972091     0.932105  \n",
       "34        0.832222  0.848291  0.962607     0.870940  \n",
       "5         0.896478  0.909524  0.972915     0.925765  \n",
       "6         0.875941  0.886513  0.968041     0.900254  \n",
       "7         0.918821  0.928571  0.982107     0.940137  \n",
       "8         0.905884  0.919464  0.971682     0.936121  \n",
       "9         0.907429  0.916552  0.979173     0.927066  \n",
       "18        0.893808  0.907444  0.978960     0.924073  \n",
       "17        0.894687  0.904783  0.983532     0.916461  \n",
       "16        0.910598  0.914863  0.976533     0.920820  \n",
       "15        0.916830  0.932733  0.979315     0.952996  \n",
       "19        0.912000  0.911385  0.976431     0.911843  \n",
       "20        0.919265  0.925589  0.980260     0.932870  \n",
       "24        0.932422  0.946916  0.989667     0.964556  \n",
       "23        0.922581  0.932425  0.990883     0.943733  \n",
       "21        0.890898  0.893809  0.981022     0.901573  \n",
       "22        0.936503  0.942002  0.987720     0.947889  \n",
       "11        0.821092  0.829287  0.945839     0.843020  \n",
       "10        0.841681  0.857210  0.959090     0.878439  \n",
       "13        0.890150  0.906682  0.958907     0.928229  \n",
       "14        0.832222  0.848291  0.960472     0.870940  \n",
       "12        0.906626  0.916650  0.966555     0.928089  "
      ]
     },
     "execution_count": 91,
     "metadata": {},
     "output_type": "execute_result"
    }
   ],
   "source": [
    "results_df"
   ]
  },
  {
   "cell_type": "code",
   "execution_count": 92,
   "id": "a3ed0a37",
   "metadata": {},
   "outputs": [
    {
     "name": "stderr",
     "output_type": "stream",
     "text": [
      "/var/folders/tr/_55wm5bd63bcm76f7qgt_2000000gn/T/ipykernel_80169/2999835967.py:9: FutureWarning: The default value of observed=False is deprecated and will change to observed=True in a future version of pandas. Specify observed=False to silence this warning and retain the current behavior\n",
      "  metric_table = results_df.pivot_table(\n"
     ]
    },
    {
     "data": {
      "image/png": "[encoded data removed]",
      "text/plain": [
       "<Figure size 1000x400 with 1 Axes>"
      ]
     },
     "metadata": {},
     "output_type": "display_data"
    },
    {
     "name": "stderr",
     "output_type": "stream",
     "text": [
      "/var/folders/tr/_55wm5bd63bcm76f7qgt_2000000gn/T/ipykernel_80169/2999835967.py:9: FutureWarning: The default value of observed=False is deprecated and will change to observed=True in a future version of pandas. Specify observed=False to silence this warning and retain the current behavior\n",
      "  metric_table = results_df.pivot_table(\n"
     ]
    },
    {
     "data": {
      "image/png": "[encoded data removed]",
      "text/plain": [
       "<Figure size 1000x400 with 1 Axes>"
      ]
     },
     "metadata": {},
     "output_type": "display_data"
    },
    {
     "name": "stderr",
     "output_type": "stream",
     "text": [
      "/var/folders/tr/_55wm5bd63bcm76f7qgt_2000000gn/T/ipykernel_80169/2999835967.py:9: FutureWarning: The default value of observed=False is deprecated and will change to observed=True in a future version of pandas. Specify observed=False to silence this warning and retain the current behavior\n",
      "  metric_table = results_df.pivot_table(\n"
     ]
    },
    {
     "data": {
      "image/png": "[encoded data removed]",
      "text/plain": [
       "<Figure size 1000x400 with 1 Axes>"
      ]
     },
     "metadata": {},
     "output_type": "display_data"
    },
    {
     "name": "stderr",
     "output_type": "stream",
     "text": [
      "/var/folders/tr/_55wm5bd63bcm76f7qgt_2000000gn/T/ipykernel_80169/2999835967.py:9: FutureWarning: The default value of observed=False is deprecated and will change to observed=True in a future version of pandas. Specify observed=False to silence this warning and retain the current behavior\n",
      "  metric_table = results_df.pivot_table(\n"
     ]
    },
    {
     "data": {
      "image/png": "[encoded data removed]",
      "text/plain": [
       "<Figure size 1000x400 with 1 Axes>"
      ]
     },
     "metadata": {},
     "output_type": "display_data"
    },
    {
     "name": "stderr",
     "output_type": "stream",
     "text": [
      "/var/folders/tr/_55wm5bd63bcm76f7qgt_2000000gn/T/ipykernel_80169/2999835967.py:9: FutureWarning: The default value of observed=False is deprecated and will change to observed=True in a future version of pandas. Specify observed=False to silence this warning and retain the current behavior\n",
      "  metric_table = results_df.pivot_table(\n"
     ]
    },
    {
     "data": {
      "image/png": "[encoded data removed]",
      "text/plain": [
       "<Figure size 1000x400 with 1 Axes>"
      ]
     },
     "metadata": {},
     "output_type": "display_data"
    }
   ],
   "source": [
    "import matplotlib.pyplot as plt\n",
    "\n",
    "metrics = ['Test_ACC', 'Test_Precision', 'Test_F1', 'Test_AUC', 'Test_Recall']\n",
    "\n",
    "results_df['Model'] = results_df['Model'].astype(str)\n",
    "# results_df['Feature Selection'] = results_df['Feature Selection'].astype(str)\n",
    "\n",
    "for metric in metrics:\n",
    "    metric_table = results_df.pivot_table(\n",
    "        index='Model',\n",
    "        columns='Feature Selection',\n",
    "        values=metric,\n",
    "        aggfunc='mean'\n",
    "    )\n",
    "    ax = metric_table.plot(kind='bar', figsize=(10, 4), width=0.9)\n",
    "    ax.set_title(metric.replace('_', ' '))\n",
    "    ax.set_xlabel('Model')\n",
    "    ax.set_ylabel(metric)\n",
    "    ax.legend(title='Feature Selection', bbox_to_anchor=(1.05, 1), loc='upper left')\n",
    "    plt.xticks(rotation=45, ha='right')\n",
    "\n",
    "    for patch in ax.patches:\n",
    "        height = patch.get_height()\n",
    "        if pd.isna(height):\n",
    "            continue\n",
    "        ax.annotate(\n",
    "            f\"{height:.2f}\",\n",
    "            (patch.get_x() + patch.get_width() / 2, height),\n",
    "            ha='center',\n",
    "            va='bottom',\n",
    "            fontsize=6,\n",
    "            xytext=(0, 2),\n",
    "            textcoords='offset points',\n",
    "            rotation=90\n",
    "        )\n",
    "\n",
    "    plt.tight_layout()\n",
    "    plt.show()\n"
   ]
  },
  {
   "cell_type": "code",
   "execution_count": null,
   "id": "3b19b0a3",
   "metadata": {},
   "outputs": [],
   "source": []
  }
 ],
 "metadata": {
  "kernelspec": {
   "display_name": "venv",
   "language": "python",
   "name": "python3"
  },
  "language_info": {
   "codemirror_mode": {
    "name": "ipython",
    "version": 3
   },
   "file_extension": ".py",
   "mimetype": "text/x-python",
   "name": "python",
   "nbconvert_exporter": "python",
   "pygments_lexer": "ipython3",
   "version": "3.13.2"
  }
 },
 "nbformat": 4,
 "nbformat_minor": 5
}
